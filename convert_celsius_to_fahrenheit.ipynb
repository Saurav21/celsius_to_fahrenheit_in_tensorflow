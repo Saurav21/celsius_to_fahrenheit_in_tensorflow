{
  "nbformat": 4,
  "nbformat_minor": 0,
  "metadata": {
    "colab": {
      "name": "convert_celsius_to_fahrenheit.ipynb",
      "provenance": []
    },
    "kernelspec": {
      "name": "python3",
      "display_name": "Python 3"
    },
    "language_info": {
      "name": "python"
    }
  },
  "cells": [
    {
      "cell_type": "code",
      "metadata": {
        "colab": {
          "resources": {
            "http://localhost:8080/nbextensions/google.colab/files.js": {
              "data": "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",
              "ok": true,
              "headers": [
                [
                  "content-type",
                  "application/javascript"
                ]
              ],
              "status": 200,
              "status_text": ""
            }
          },
          "base_uri": "https://localhost:8080/",
          "height": 111
        },
        "id": "AbF4aEg1JOBK",
        "outputId": "e961df0a-e0ac-433e-f9e5-c2b0bb1d6984"
      },
      "source": [
        "from google.colab import files\n",
        "files.upload()"
      ],
      "execution_count": 1,
      "outputs": [
        {
          "output_type": "display_data",
          "data": {
            "text/html": [
              "\n",
              "     <input type=\"file\" id=\"files-6136d5a1-ac68-41ae-8fbc-cb0d1bfaad6a\" name=\"files[]\" multiple disabled\n",
              "        style=\"border:none\" />\n",
              "     <output id=\"result-6136d5a1-ac68-41ae-8fbc-cb0d1bfaad6a\">\n",
              "      Upload widget is only available when the cell has been executed in the\n",
              "      current browser session. Please rerun this cell to enable.\n",
              "      </output>\n",
              "      <script src=\"/nbextensions/google.colab/files.js\"></script> "
            ],
            "text/plain": [
              "<IPython.core.display.HTML object>"
            ]
          },
          "metadata": {}
        },
        {
          "output_type": "stream",
          "name": "stdout",
          "text": [
            "Saving Celsius+to+Fahrenheit.csv to Celsius+to+Fahrenheit.csv\n"
          ]
        },
        {
          "output_type": "execute_result",
          "data": {
            "text/plain": [
              "{'Celsius+to+Fahrenheit.csv': b'Celsius,Fahrenheit\\r\\n-50,-58\\r\\n-40,-40\\r\\n-30,-22\\r\\n-20,-4\\r\\n-10,14\\r\\n-9,15.8\\r\\n-8,17.6\\r\\n-7,19.4\\r\\n-6,21.2\\r\\n-5,23\\r\\n-4,24.8\\r\\n-3,26.6\\r\\n-2,28.4\\r\\n-1,30.2\\r\\n0,32\\r\\n1,33.8\\r\\n2,35.6\\r\\n3,37.4\\r\\n4,39.2\\r\\n5,41\\r\\n6,42.8\\r\\n7,44.6\\r\\n8,46.4\\r\\n9,48.2\\r\\n10,50\\r\\n20,68\\r\\n30,86\\r\\n40,104\\r\\n50,122\\r\\n60,140\\r\\n'}"
            ]
          },
          "metadata": {},
          "execution_count": 1
        }
      ]
    },
    {
      "cell_type": "code",
      "metadata": {
        "id": "L0bNaJHLJ086"
      },
      "source": [
        "import pandas as pd\n",
        "\n",
        "data = pd.read_csv(\"Celsius+to+Fahrenheit.csv\")"
      ],
      "execution_count": 2,
      "outputs": []
    },
    {
      "cell_type": "code",
      "metadata": {
        "colab": {
          "base_uri": "https://localhost:8080/",
          "height": 205
        },
        "id": "onu-yK7eKKTN",
        "outputId": "bb573792-807e-4c42-a5ac-001a84cdc739"
      },
      "source": [
        "data.head()"
      ],
      "execution_count": 3,
      "outputs": [
        {
          "output_type": "execute_result",
          "data": {
            "text/html": [
              "<div>\n",
              "<style scoped>\n",
              "    .dataframe tbody tr th:only-of-type {\n",
              "        vertical-align: middle;\n",
              "    }\n",
              "\n",
              "    .dataframe tbody tr th {\n",
              "        vertical-align: top;\n",
              "    }\n",
              "\n",
              "    .dataframe thead th {\n",
              "        text-align: right;\n",
              "    }\n",
              "</style>\n",
              "<table border=\"1\" class=\"dataframe\">\n",
              "  <thead>\n",
              "    <tr style=\"text-align: right;\">\n",
              "      <th></th>\n",
              "      <th>Celsius</th>\n",
              "      <th>Fahrenheit</th>\n",
              "    </tr>\n",
              "  </thead>\n",
              "  <tbody>\n",
              "    <tr>\n",
              "      <th>0</th>\n",
              "      <td>-50</td>\n",
              "      <td>-58.0</td>\n",
              "    </tr>\n",
              "    <tr>\n",
              "      <th>1</th>\n",
              "      <td>-40</td>\n",
              "      <td>-40.0</td>\n",
              "    </tr>\n",
              "    <tr>\n",
              "      <th>2</th>\n",
              "      <td>-30</td>\n",
              "      <td>-22.0</td>\n",
              "    </tr>\n",
              "    <tr>\n",
              "      <th>3</th>\n",
              "      <td>-20</td>\n",
              "      <td>-4.0</td>\n",
              "    </tr>\n",
              "    <tr>\n",
              "      <th>4</th>\n",
              "      <td>-10</td>\n",
              "      <td>14.0</td>\n",
              "    </tr>\n",
              "  </tbody>\n",
              "</table>\n",
              "</div>"
            ],
            "text/plain": [
              "   Celsius  Fahrenheit\n",
              "0      -50       -58.0\n",
              "1      -40       -40.0\n",
              "2      -30       -22.0\n",
              "3      -20        -4.0\n",
              "4      -10        14.0"
            ]
          },
          "metadata": {},
          "execution_count": 3
        }
      ]
    },
    {
      "cell_type": "code",
      "metadata": {
        "colab": {
          "base_uri": "https://localhost:8080/"
        },
        "id": "IBF3wI9NKMlG",
        "outputId": "f5034a6f-1abf-4dde-ddf7-96c4bfa8cc92"
      },
      "source": [
        "data.info()"
      ],
      "execution_count": 4,
      "outputs": [
        {
          "output_type": "stream",
          "name": "stdout",
          "text": [
            "<class 'pandas.core.frame.DataFrame'>\n",
            "RangeIndex: 30 entries, 0 to 29\n",
            "Data columns (total 2 columns):\n",
            " #   Column      Non-Null Count  Dtype  \n",
            "---  ------      --------------  -----  \n",
            " 0   Celsius     30 non-null     int64  \n",
            " 1   Fahrenheit  30 non-null     float64\n",
            "dtypes: float64(1), int64(1)\n",
            "memory usage: 608.0 bytes\n"
          ]
        }
      ]
    },
    {
      "cell_type": "code",
      "metadata": {
        "id": "oI8hxRVtKO1X"
      },
      "source": [
        "x_train = data[\"Celsius\"]\n",
        "y_train = data[\"Fahrenheit\"]"
      ],
      "execution_count": 5,
      "outputs": []
    },
    {
      "cell_type": "code",
      "metadata": {
        "colab": {
          "base_uri": "https://localhost:8080/"
        },
        "id": "6-pMkk9aLxqc",
        "outputId": "5e1f75e3-59ac-4148-941a-1d3b56f6f44b"
      },
      "source": [
        "x_train.shape"
      ],
      "execution_count": 9,
      "outputs": [
        {
          "output_type": "execute_result",
          "data": {
            "text/plain": [
              "(30,)"
            ]
          },
          "metadata": {},
          "execution_count": 9
        }
      ]
    },
    {
      "cell_type": "code",
      "metadata": {
        "id": "lIuU0sLyKmGm"
      },
      "source": [
        "# creating a deep learning model \n",
        "\n",
        "import tensorflow as tf\n",
        "from tensorflow.keras import layers\n",
        "\n",
        "\n",
        "model = tf.keras.Sequential([\n",
        "                             layers.Dense(1 , activation= \"relu\", input_shape = [1])\n",
        "])\n",
        "\n",
        "\n",
        "\n",
        "\n",
        "\n"
      ],
      "execution_count": 18,
      "outputs": []
    },
    {
      "cell_type": "code",
      "metadata": {
        "colab": {
          "base_uri": "https://localhost:8080/"
        },
        "id": "cx11rxeqK1Ru",
        "outputId": "d11cf207-0e63-4894-b1da-99650174d8ba"
      },
      "source": [
        "\n",
        "model.summary()"
      ],
      "execution_count": 19,
      "outputs": [
        {
          "output_type": "stream",
          "name": "stdout",
          "text": [
            "Model: \"sequential_3\"\n",
            "_________________________________________________________________\n",
            "Layer (type)                 Output Shape              Param #   \n",
            "=================================================================\n",
            "dense_8 (Dense)              (None, 1)                 2         \n",
            "=================================================================\n",
            "Total params: 2\n",
            "Trainable params: 2\n",
            "Non-trainable params: 0\n",
            "_________________________________________________________________\n"
          ]
        }
      ]
    },
    {
      "cell_type": "code",
      "metadata": {
        "id": "GNLWWzM7L9bf"
      },
      "source": [
        "model.compile(\n",
        "    loss= tf.keras.losses.mean_squared_error,\n",
        "    optimizer = tf.keras.optimizers.Adam(0.5),\n",
        "    metrics = [\"mse\"]\n",
        ")"
      ],
      "execution_count": 41,
      "outputs": []
    },
    {
      "cell_type": "code",
      "metadata": {
        "colab": {
          "base_uri": "https://localhost:8080/"
        },
        "id": "smnUHRWQOG4H",
        "outputId": "624b87c8-cbce-4691-b2f4-00755572f411"
      },
      "source": [
        "model_hist = model.fit(x_train, y_train, epochs = 200)"
      ],
      "execution_count": 42,
      "outputs": [
        {
          "output_type": "stream",
          "name": "stdout",
          "text": [
            "Epoch 1/200\n",
            "1/1 [==============================] - 0s 273ms/step - loss: 777.8676 - mse: 777.8676\n",
            "Epoch 2/200\n",
            "1/1 [==============================] - 0s 4ms/step - loss: 649.6599 - mse: 649.6599\n",
            "Epoch 3/200\n",
            "1/1 [==============================] - 0s 4ms/step - loss: 664.0400 - mse: 664.0400\n",
            "Epoch 4/200\n",
            "1/1 [==============================] - 0s 9ms/step - loss: 691.7463 - mse: 691.7463\n",
            "Epoch 5/200\n",
            "1/1 [==============================] - 0s 4ms/step - loss: 671.1139 - mse: 671.1139\n",
            "Epoch 6/200\n",
            "1/1 [==============================] - 0s 5ms/step - loss: 632.1501 - mse: 632.1501\n",
            "Epoch 7/200\n",
            "1/1 [==============================] - 0s 15ms/step - loss: 604.6238 - mse: 604.6238\n",
            "Epoch 8/200\n",
            "1/1 [==============================] - 0s 3ms/step - loss: 599.3263 - mse: 599.3263\n",
            "Epoch 9/200\n",
            "1/1 [==============================] - 0s 5ms/step - loss: 605.1868 - mse: 605.1868\n",
            "Epoch 10/200\n",
            "1/1 [==============================] - 0s 6ms/step - loss: 604.0300 - mse: 604.0300\n",
            "Epoch 11/200\n",
            "1/1 [==============================] - 0s 4ms/step - loss: 589.1082 - mse: 589.1082\n",
            "Epoch 12/200\n",
            "1/1 [==============================] - 0s 4ms/step - loss: 567.6508 - mse: 567.6508\n",
            "Epoch 13/200\n",
            "1/1 [==============================] - 0s 5ms/step - loss: 549.5340 - mse: 549.5340\n",
            "Epoch 14/200\n",
            "1/1 [==============================] - 0s 4ms/step - loss: 540.1392 - mse: 540.1392\n",
            "Epoch 15/200\n",
            "1/1 [==============================] - 0s 4ms/step - loss: 537.2468 - mse: 537.2468\n",
            "Epoch 16/200\n",
            "1/1 [==============================] - 0s 4ms/step - loss: 534.0275 - mse: 534.0275\n",
            "Epoch 17/200\n",
            "1/1 [==============================] - 0s 6ms/step - loss: 525.3464 - mse: 525.3464\n",
            "Epoch 18/200\n",
            "1/1 [==============================] - 0s 4ms/step - loss: 510.5166 - mse: 510.5166\n",
            "Epoch 19/200\n",
            "1/1 [==============================] - 0s 4ms/step - loss: 494.9835 - mse: 494.9835\n",
            "Epoch 20/200\n",
            "1/1 [==============================] - 0s 7ms/step - loss: 483.1928 - mse: 483.1928\n",
            "Epoch 21/200\n",
            "1/1 [==============================] - 0s 3ms/step - loss: 475.0061 - mse: 475.0061\n",
            "Epoch 22/200\n",
            "1/1 [==============================] - 0s 7ms/step - loss: 468.8618 - mse: 468.8618\n",
            "Epoch 23/200\n",
            "1/1 [==============================] - 0s 3ms/step - loss: 461.4372 - mse: 461.4372\n",
            "Epoch 24/200\n",
            "1/1 [==============================] - 0s 5ms/step - loss: 450.4322 - mse: 450.4322\n",
            "Epoch 25/200\n",
            "1/1 [==============================] - 0s 4ms/step - loss: 437.8070 - mse: 437.8070\n",
            "Epoch 26/200\n",
            "1/1 [==============================] - 0s 5ms/step - loss: 426.0355 - mse: 426.0355\n",
            "Epoch 27/200\n",
            "1/1 [==============================] - 0s 13ms/step - loss: 416.5402 - mse: 416.5402\n",
            "Epoch 28/200\n",
            "1/1 [==============================] - 0s 6ms/step - loss: 408.8352 - mse: 408.8352\n",
            "Epoch 29/200\n",
            "1/1 [==============================] - 0s 4ms/step - loss: 401.2220 - mse: 401.2220\n",
            "Epoch 30/200\n",
            "1/1 [==============================] - 0s 6ms/step - loss: 392.0576 - mse: 392.0576\n",
            "Epoch 31/200\n",
            "1/1 [==============================] - 0s 7ms/step - loss: 381.1080 - mse: 381.1080\n",
            "Epoch 32/200\n",
            "1/1 [==============================] - 0s 4ms/step - loss: 370.4376 - mse: 370.4376\n",
            "Epoch 33/200\n",
            "1/1 [==============================] - 0s 4ms/step - loss: 360.7796 - mse: 360.7796\n",
            "Epoch 34/200\n",
            "1/1 [==============================] - 0s 6ms/step - loss: 352.3503 - mse: 352.3503\n",
            "Epoch 35/200\n",
            "1/1 [==============================] - 0s 6ms/step - loss: 344.6190 - mse: 344.6190\n",
            "Epoch 36/200\n",
            "1/1 [==============================] - 0s 4ms/step - loss: 335.8756 - mse: 335.8756\n",
            "Epoch 37/200\n",
            "1/1 [==============================] - 0s 14ms/step - loss: 326.5465 - mse: 326.5465\n",
            "Epoch 38/200\n",
            "1/1 [==============================] - 0s 4ms/step - loss: 317.0883 - mse: 317.0883\n",
            "Epoch 39/200\n",
            "1/1 [==============================] - 0s 6ms/step - loss: 308.3224 - mse: 308.3224\n",
            "Epoch 40/200\n",
            "1/1 [==============================] - 0s 4ms/step - loss: 300.4679 - mse: 300.4679\n",
            "Epoch 41/200\n",
            "1/1 [==============================] - 0s 6ms/step - loss: 292.8550 - mse: 292.8550\n",
            "Epoch 42/200\n",
            "1/1 [==============================] - 0s 5ms/step - loss: 285.0336 - mse: 285.0336\n",
            "Epoch 43/200\n",
            "1/1 [==============================] - 0s 5ms/step - loss: 277.0500 - mse: 277.0500\n",
            "Epoch 44/200\n",
            "1/1 [==============================] - 0s 4ms/step - loss: 268.9489 - mse: 268.9489\n",
            "Epoch 45/200\n",
            "1/1 [==============================] - 0s 7ms/step - loss: 261.4581 - mse: 261.4581\n",
            "Epoch 46/200\n",
            "1/1 [==============================] - 0s 9ms/step - loss: 254.9619 - mse: 254.9619\n",
            "Epoch 47/200\n",
            "1/1 [==============================] - 0s 5ms/step - loss: 248.9409 - mse: 248.9409\n",
            "Epoch 48/200\n",
            "1/1 [==============================] - 0s 6ms/step - loss: 242.8671 - mse: 242.8671\n",
            "Epoch 49/200\n",
            "1/1 [==============================] - 0s 6ms/step - loss: 236.7640 - mse: 236.7640\n",
            "Epoch 50/200\n",
            "1/1 [==============================] - 0s 7ms/step - loss: 231.0910 - mse: 231.0910\n",
            "Epoch 51/200\n",
            "1/1 [==============================] - 0s 4ms/step - loss: 226.1768 - mse: 226.1768\n",
            "Epoch 52/200\n",
            "1/1 [==============================] - 0s 6ms/step - loss: 221.8763 - mse: 221.8763\n",
            "Epoch 53/200\n",
            "1/1 [==============================] - 0s 4ms/step - loss: 217.7919 - mse: 217.7919\n",
            "Epoch 54/200\n",
            "1/1 [==============================] - 0s 5ms/step - loss: 213.7382 - mse: 213.7382\n",
            "Epoch 55/200\n",
            "1/1 [==============================] - 0s 6ms/step - loss: 209.8988 - mse: 209.8988\n",
            "Epoch 56/200\n",
            "1/1 [==============================] - 0s 4ms/step - loss: 206.5471 - mse: 206.5471\n",
            "Epoch 57/200\n",
            "1/1 [==============================] - 0s 6ms/step - loss: 203.7082 - mse: 203.7082\n",
            "Epoch 58/200\n",
            "1/1 [==============================] - 0s 4ms/step - loss: 201.1528 - mse: 201.1528\n",
            "Epoch 59/200\n",
            "1/1 [==============================] - 0s 7ms/step - loss: 198.6822 - mse: 198.6822\n",
            "Epoch 60/200\n",
            "1/1 [==============================] - 0s 5ms/step - loss: 196.3340 - mse: 196.3340\n",
            "Epoch 61/200\n",
            "1/1 [==============================] - 0s 7ms/step - loss: 194.2811 - mse: 194.2811\n",
            "Epoch 62/200\n",
            "1/1 [==============================] - 0s 4ms/step - loss: 192.5889 - mse: 192.5889\n",
            "Epoch 63/200\n",
            "1/1 [==============================] - 0s 6ms/step - loss: 191.1364 - mse: 191.1364\n",
            "Epoch 64/200\n",
            "1/1 [==============================] - 0s 5ms/step - loss: 189.7717 - mse: 189.7717\n",
            "Epoch 65/200\n",
            "1/1 [==============================] - 0s 5ms/step - loss: 188.4798 - mse: 188.4798\n",
            "Epoch 66/200\n",
            "1/1 [==============================] - 0s 6ms/step - loss: 187.3606 - mse: 187.3606\n",
            "Epoch 67/200\n",
            "1/1 [==============================] - 0s 6ms/step - loss: 186.4715 - mse: 186.4715\n",
            "Epoch 68/200\n",
            "1/1 [==============================] - 0s 4ms/step - loss: 185.7474 - mse: 185.7474\n",
            "Epoch 69/200\n",
            "1/1 [==============================] - 0s 6ms/step - loss: 185.0852 - mse: 185.0852\n",
            "Epoch 70/200\n",
            "1/1 [==============================] - 0s 4ms/step - loss: 184.4615 - mse: 184.4615\n",
            "Epoch 71/200\n",
            "1/1 [==============================] - 0s 6ms/step - loss: 183.9346 - mse: 183.9346\n",
            "Epoch 72/200\n",
            "1/1 [==============================] - 0s 4ms/step - loss: 183.5437 - mse: 183.5437\n",
            "Epoch 73/200\n",
            "1/1 [==============================] - 0s 6ms/step - loss: 183.2499 - mse: 183.2499\n",
            "Epoch 74/200\n",
            "1/1 [==============================] - 0s 5ms/step - loss: 182.9864 - mse: 182.9864\n",
            "Epoch 75/200\n",
            "1/1 [==============================] - 0s 6ms/step - loss: 182.7371 - mse: 182.7371\n",
            "Epoch 76/200\n",
            "1/1 [==============================] - 0s 4ms/step - loss: 182.5388 - mse: 182.5388\n",
            "Epoch 77/200\n",
            "1/1 [==============================] - 0s 6ms/step - loss: 182.4147 - mse: 182.4147\n",
            "Epoch 78/200\n",
            "1/1 [==============================] - 0s 5ms/step - loss: 182.3384 - mse: 182.3384\n",
            "Epoch 79/200\n",
            "1/1 [==============================] - 0s 6ms/step - loss: 182.2686 - mse: 182.2686\n",
            "Epoch 80/200\n",
            "1/1 [==============================] - 0s 4ms/step - loss: 182.1988 - mse: 182.1988\n",
            "Epoch 81/200\n",
            "1/1 [==============================] - 0s 7ms/step - loss: 182.1538 - mse: 182.1538\n",
            "Epoch 82/200\n",
            "1/1 [==============================] - 0s 4ms/step - loss: 182.1458 - mse: 182.1458\n",
            "Epoch 83/200\n",
            "1/1 [==============================] - 0s 4ms/step - loss: 182.1550 - mse: 182.1550\n",
            "Epoch 84/200\n",
            "1/1 [==============================] - 0s 6ms/step - loss: 182.1575 - mse: 182.1575\n",
            "Epoch 85/200\n",
            "1/1 [==============================] - 0s 4ms/step - loss: 182.1545 - mse: 182.1545\n",
            "Epoch 86/200\n",
            "1/1 [==============================] - 0s 7ms/step - loss: 182.1632 - mse: 182.1632\n",
            "Epoch 87/200\n",
            "1/1 [==============================] - 0s 4ms/step - loss: 182.1877 - mse: 182.1877\n",
            "Epoch 88/200\n",
            "1/1 [==============================] - 0s 4ms/step - loss: 182.2135 - mse: 182.2135\n",
            "Epoch 89/200\n",
            "1/1 [==============================] - 0s 7ms/step - loss: 182.2286 - mse: 182.2286\n",
            "Epoch 90/200\n",
            "1/1 [==============================] - 0s 4ms/step - loss: 182.2384 - mse: 182.2384\n",
            "Epoch 91/200\n",
            "1/1 [==============================] - 0s 4ms/step - loss: 182.2539 - mse: 182.2539\n",
            "Epoch 92/200\n",
            "1/1 [==============================] - 0s 7ms/step - loss: 182.2744 - mse: 182.2744\n",
            "Epoch 93/200\n",
            "1/1 [==============================] - 0s 4ms/step - loss: 182.2897 - mse: 182.2897\n",
            "Epoch 94/200\n",
            "1/1 [==============================] - 0s 13ms/step - loss: 182.2961 - mse: 182.2961\n",
            "Epoch 95/200\n",
            "1/1 [==============================] - 0s 7ms/step - loss: 182.2997 - mse: 182.2997\n",
            "Epoch 96/200\n",
            "1/1 [==============================] - 0s 4ms/step - loss: 182.3065 - mse: 182.3065\n",
            "Epoch 97/200\n",
            "1/1 [==============================] - 0s 8ms/step - loss: 182.3132 - mse: 182.3132\n",
            "Epoch 98/200\n",
            "1/1 [==============================] - 0s 9ms/step - loss: 182.3142 - mse: 182.3142\n",
            "Epoch 99/200\n",
            "1/1 [==============================] - 0s 14ms/step - loss: 182.3099 - mse: 182.3099\n",
            "Epoch 100/200\n",
            "1/1 [==============================] - 0s 4ms/step - loss: 182.3057 - mse: 182.3057\n",
            "Epoch 101/200\n",
            "1/1 [==============================] - 0s 6ms/step - loss: 182.3031 - mse: 182.3031\n",
            "Epoch 102/200\n",
            "1/1 [==============================] - 0s 9ms/step - loss: 182.2989 - mse: 182.2989\n",
            "Epoch 103/200\n",
            "1/1 [==============================] - 0s 4ms/step - loss: 182.2907 - mse: 182.2907\n",
            "Epoch 104/200\n",
            "1/1 [==============================] - 0s 5ms/step - loss: 182.2810 - mse: 182.2810\n",
            "Epoch 105/200\n",
            "1/1 [==============================] - 0s 7ms/step - loss: 182.2726 - mse: 182.2726\n",
            "Epoch 106/200\n",
            "1/1 [==============================] - 0s 13ms/step - loss: 182.2650 - mse: 182.2650\n",
            "Epoch 107/200\n",
            "1/1 [==============================] - 0s 12ms/step - loss: 182.2558 - mse: 182.2558\n",
            "Epoch 108/200\n",
            "1/1 [==============================] - 0s 15ms/step - loss: 182.2451 - mse: 182.2451\n",
            "Epoch 109/200\n",
            "1/1 [==============================] - 0s 4ms/step - loss: 182.2349 - mse: 182.2349\n",
            "Epoch 110/200\n",
            "1/1 [==============================] - 0s 10ms/step - loss: 182.2264 - mse: 182.2264\n",
            "Epoch 111/200\n",
            "1/1 [==============================] - 0s 5ms/step - loss: 182.2179 - mse: 182.2179\n",
            "Epoch 112/200\n",
            "1/1 [==============================] - 0s 7ms/step - loss: 182.2087 - mse: 182.2087\n",
            "Epoch 113/200\n",
            "1/1 [==============================] - 0s 6ms/step - loss: 182.1996 - mse: 182.1996\n",
            "Epoch 114/200\n",
            "1/1 [==============================] - 0s 6ms/step - loss: 182.1919 - mse: 182.1919\n",
            "Epoch 115/200\n",
            "1/1 [==============================] - 0s 16ms/step - loss: 182.1852 - mse: 182.1852\n",
            "Epoch 116/200\n",
            "1/1 [==============================] - 0s 4ms/step - loss: 182.1784 - mse: 182.1784\n",
            "Epoch 117/200\n",
            "1/1 [==============================] - 0s 12ms/step - loss: 182.1717 - mse: 182.1717\n",
            "Epoch 118/200\n",
            "1/1 [==============================] - 0s 8ms/step - loss: 182.1659 - mse: 182.1659\n",
            "Epoch 119/200\n",
            "1/1 [==============================] - 0s 4ms/step - loss: 182.1612 - mse: 182.1612\n",
            "Epoch 120/200\n",
            "1/1 [==============================] - 0s 5ms/step - loss: 182.1569 - mse: 182.1569\n",
            "Epoch 121/200\n",
            "1/1 [==============================] - 0s 3ms/step - loss: 182.1526 - mse: 182.1526\n",
            "Epoch 122/200\n",
            "1/1 [==============================] - 0s 4ms/step - loss: 182.1489 - mse: 182.1489\n",
            "Epoch 123/200\n",
            "1/1 [==============================] - 0s 3ms/step - loss: 182.1460 - mse: 182.1460\n",
            "Epoch 124/200\n",
            "1/1 [==============================] - 0s 7ms/step - loss: 182.1436 - mse: 182.1436\n",
            "Epoch 125/200\n",
            "1/1 [==============================] - 0s 3ms/step - loss: 182.1413 - mse: 182.1413\n",
            "Epoch 126/200\n",
            "1/1 [==============================] - 0s 5ms/step - loss: 182.1393 - mse: 182.1393\n",
            "Epoch 127/200\n",
            "1/1 [==============================] - 0s 3ms/step - loss: 182.1378 - mse: 182.1378\n",
            "Epoch 128/200\n",
            "1/1 [==============================] - 0s 4ms/step - loss: 182.1367 - mse: 182.1367\n",
            "Epoch 129/200\n",
            "1/1 [==============================] - 0s 3ms/step - loss: 182.1357 - mse: 182.1357\n",
            "Epoch 130/200\n",
            "1/1 [==============================] - 0s 6ms/step - loss: 182.1348 - mse: 182.1348\n",
            "Epoch 131/200\n",
            "1/1 [==============================] - 0s 3ms/step - loss: 182.1342 - mse: 182.1342\n",
            "Epoch 132/200\n",
            "1/1 [==============================] - 0s 8ms/step - loss: 182.1340 - mse: 182.1340\n",
            "Epoch 133/200\n",
            "1/1 [==============================] - 0s 3ms/step - loss: 182.1337 - mse: 182.1337\n",
            "Epoch 134/200\n",
            "1/1 [==============================] - 0s 6ms/step - loss: 182.1335 - mse: 182.1335\n",
            "Epoch 135/200\n",
            "1/1 [==============================] - 0s 3ms/step - loss: 182.1333 - mse: 182.1333\n",
            "Epoch 136/200\n",
            "1/1 [==============================] - 0s 5ms/step - loss: 182.1334 - mse: 182.1334\n",
            "Epoch 137/200\n",
            "1/1 [==============================] - 0s 3ms/step - loss: 182.1335 - mse: 182.1335\n",
            "Epoch 138/200\n",
            "1/1 [==============================] - 0s 4ms/step - loss: 182.1335 - mse: 182.1335\n",
            "Epoch 139/200\n",
            "1/1 [==============================] - 0s 3ms/step - loss: 182.1335 - mse: 182.1335\n",
            "Epoch 140/200\n",
            "1/1 [==============================] - 0s 14ms/step - loss: 182.1337 - mse: 182.1337\n",
            "Epoch 141/200\n",
            "1/1 [==============================] - 0s 4ms/step - loss: 182.1338 - mse: 182.1338\n",
            "Epoch 142/200\n",
            "1/1 [==============================] - 0s 5ms/step - loss: 182.1339 - mse: 182.1339\n",
            "Epoch 143/200\n",
            "1/1 [==============================] - 0s 4ms/step - loss: 182.1340 - mse: 182.1340\n",
            "Epoch 144/200\n",
            "1/1 [==============================] - 0s 5ms/step - loss: 182.1341 - mse: 182.1341\n",
            "Epoch 145/200\n",
            "1/1 [==============================] - 0s 3ms/step - loss: 182.1342 - mse: 182.1342\n",
            "Epoch 146/200\n",
            "1/1 [==============================] - 0s 6ms/step - loss: 182.1342 - mse: 182.1342\n",
            "Epoch 147/200\n",
            "1/1 [==============================] - 0s 3ms/step - loss: 182.1342 - mse: 182.1342\n",
            "Epoch 148/200\n",
            "1/1 [==============================] - 0s 10ms/step - loss: 182.1343 - mse: 182.1343\n",
            "Epoch 149/200\n",
            "1/1 [==============================] - 0s 3ms/step - loss: 182.1343 - mse: 182.1343\n",
            "Epoch 150/200\n",
            "1/1 [==============================] - 0s 4ms/step - loss: 182.1343 - mse: 182.1343\n",
            "Epoch 151/200\n",
            "1/1 [==============================] - 0s 4ms/step - loss: 182.1343 - mse: 182.1343\n",
            "Epoch 152/200\n",
            "1/1 [==============================] - 0s 7ms/step - loss: 182.1343 - mse: 182.1343\n",
            "Epoch 153/200\n",
            "1/1 [==============================] - 0s 7ms/step - loss: 182.1342 - mse: 182.1342\n",
            "Epoch 154/200\n",
            "1/1 [==============================] - 0s 4ms/step - loss: 182.1342 - mse: 182.1342\n",
            "Epoch 155/200\n",
            "1/1 [==============================] - 0s 4ms/step - loss: 182.1341 - mse: 182.1341\n",
            "Epoch 156/200\n",
            "1/1 [==============================] - 0s 6ms/step - loss: 182.1341 - mse: 182.1341\n",
            "Epoch 157/200\n",
            "1/1 [==============================] - 0s 3ms/step - loss: 182.1340 - mse: 182.1340\n",
            "Epoch 158/200\n",
            "1/1 [==============================] - 0s 7ms/step - loss: 182.1340 - mse: 182.1340\n",
            "Epoch 159/200\n",
            "1/1 [==============================] - 0s 3ms/step - loss: 182.1339 - mse: 182.1339\n",
            "Epoch 160/200\n",
            "1/1 [==============================] - 0s 7ms/step - loss: 182.1338 - mse: 182.1338\n",
            "Epoch 161/200\n",
            "1/1 [==============================] - 0s 3ms/step - loss: 182.1338 - mse: 182.1338\n",
            "Epoch 162/200\n",
            "1/1 [==============================] - 0s 5ms/step - loss: 182.1337 - mse: 182.1337\n",
            "Epoch 163/200\n",
            "1/1 [==============================] - 0s 3ms/step - loss: 182.1337 - mse: 182.1337\n",
            "Epoch 164/200\n",
            "1/1 [==============================] - 0s 7ms/step - loss: 182.1336 - mse: 182.1336\n",
            "Epoch 165/200\n",
            "1/1 [==============================] - 0s 3ms/step - loss: 182.1336 - mse: 182.1336\n",
            "Epoch 166/200\n",
            "1/1 [==============================] - 0s 4ms/step - loss: 182.1335 - mse: 182.1335\n",
            "Epoch 167/200\n",
            "1/1 [==============================] - 0s 4ms/step - loss: 182.1335 - mse: 182.1335\n",
            "Epoch 168/200\n",
            "1/1 [==============================] - 0s 5ms/step - loss: 182.1335 - mse: 182.1335\n",
            "Epoch 169/200\n",
            "1/1 [==============================] - 0s 3ms/step - loss: 182.1335 - mse: 182.1335\n",
            "Epoch 170/200\n",
            "1/1 [==============================] - 0s 5ms/step - loss: 182.1334 - mse: 182.1334\n",
            "Epoch 171/200\n",
            "1/1 [==============================] - 0s 3ms/step - loss: 182.1334 - mse: 182.1334\n",
            "Epoch 172/200\n",
            "1/1 [==============================] - 0s 4ms/step - loss: 182.1334 - mse: 182.1334\n",
            "Epoch 173/200\n",
            "1/1 [==============================] - 0s 3ms/step - loss: 182.1334 - mse: 182.1334\n",
            "Epoch 174/200\n",
            "1/1 [==============================] - 0s 11ms/step - loss: 182.1333 - mse: 182.1333\n",
            "Epoch 175/200\n",
            "1/1 [==============================] - 0s 4ms/step - loss: 182.1333 - mse: 182.1333\n",
            "Epoch 176/200\n",
            "1/1 [==============================] - 0s 3ms/step - loss: 182.1333 - mse: 182.1333\n",
            "Epoch 177/200\n",
            "1/1 [==============================] - 0s 5ms/step - loss: 182.1333 - mse: 182.1333\n",
            "Epoch 178/200\n",
            "1/1 [==============================] - 0s 3ms/step - loss: 182.1333 - mse: 182.1333\n",
            "Epoch 179/200\n",
            "1/1 [==============================] - 0s 7ms/step - loss: 182.1333 - mse: 182.1333\n",
            "Epoch 180/200\n",
            "1/1 [==============================] - 0s 41ms/step - loss: 182.1333 - mse: 182.1333\n",
            "Epoch 181/200\n",
            "1/1 [==============================] - 0s 13ms/step - loss: 182.1333 - mse: 182.1333\n",
            "Epoch 182/200\n",
            "1/1 [==============================] - 0s 21ms/step - loss: 182.1333 - mse: 182.1333\n",
            "Epoch 183/200\n",
            "1/1 [==============================] - 0s 11ms/step - loss: 182.1333 - mse: 182.1333\n",
            "Epoch 184/200\n",
            "1/1 [==============================] - 0s 16ms/step - loss: 182.1333 - mse: 182.1333\n",
            "Epoch 185/200\n",
            "1/1 [==============================] - 0s 12ms/step - loss: 182.1333 - mse: 182.1333\n",
            "Epoch 186/200\n",
            "1/1 [==============================] - 0s 7ms/step - loss: 182.1333 - mse: 182.1333\n",
            "Epoch 187/200\n",
            "1/1 [==============================] - 0s 16ms/step - loss: 182.1333 - mse: 182.1333\n",
            "Epoch 188/200\n",
            "1/1 [==============================] - 0s 4ms/step - loss: 182.1333 - mse: 182.1333\n",
            "Epoch 189/200\n",
            "1/1 [==============================] - 0s 12ms/step - loss: 182.1333 - mse: 182.1333\n",
            "Epoch 190/200\n",
            "1/1 [==============================] - 0s 16ms/step - loss: 182.1333 - mse: 182.1333\n",
            "Epoch 191/200\n",
            "1/1 [==============================] - 0s 5ms/step - loss: 182.1333 - mse: 182.1333\n",
            "Epoch 192/200\n",
            "1/1 [==============================] - 0s 5ms/step - loss: 182.1333 - mse: 182.1333\n",
            "Epoch 193/200\n",
            "1/1 [==============================] - 0s 5ms/step - loss: 182.1333 - mse: 182.1333\n",
            "Epoch 194/200\n",
            "1/1 [==============================] - 0s 5ms/step - loss: 182.1333 - mse: 182.1333\n",
            "Epoch 195/200\n",
            "1/1 [==============================] - 0s 7ms/step - loss: 182.1333 - mse: 182.1333\n",
            "Epoch 196/200\n",
            "1/1 [==============================] - 0s 11ms/step - loss: 182.1333 - mse: 182.1333\n",
            "Epoch 197/200\n",
            "1/1 [==============================] - 0s 4ms/step - loss: 182.1333 - mse: 182.1333\n",
            "Epoch 198/200\n",
            "1/1 [==============================] - 0s 7ms/step - loss: 182.1333 - mse: 182.1333\n",
            "Epoch 199/200\n",
            "1/1 [==============================] - 0s 13ms/step - loss: 182.1333 - mse: 182.1333\n",
            "Epoch 200/200\n",
            "1/1 [==============================] - 0s 14ms/step - loss: 182.1333 - mse: 182.1333\n"
          ]
        }
      ]
    },
    {
      "cell_type": "code",
      "metadata": {
        "colab": {
          "base_uri": "https://localhost:8080/"
        },
        "id": "Jufw8WInOOnz",
        "outputId": "860e4f8e-358f-405d-f832-78606625e8b5"
      },
      "source": [
        "model_hist.history.keys()"
      ],
      "execution_count": 43,
      "outputs": [
        {
          "output_type": "execute_result",
          "data": {
            "text/plain": [
              "dict_keys(['loss', 'mse'])"
            ]
          },
          "metadata": {},
          "execution_count": 43
        }
      ]
    },
    {
      "cell_type": "code",
      "metadata": {
        "colab": {
          "base_uri": "https://localhost:8080/",
          "height": 313
        },
        "id": "6ATdH0WUOq7U",
        "outputId": "8364560a-0100-49a6-bacb-d04f59b63d66"
      },
      "source": [
        "import matplotlib.pyplot as plt\n",
        "\n",
        "plt.plot(model_hist.history[\"loss\"])\n",
        "plt.title('Model Loss Progress During Training')\n",
        "plt.xlabel('Epoch')\n",
        "plt.ylabel('Training Loss')\n",
        "plt.legend(['Training Loss'])\n"
      ],
      "execution_count": 44,
      "outputs": [
        {
          "output_type": "execute_result",
          "data": {
            "text/plain": [
              "<matplotlib.legend.Legend at 0x7f10b2f0ee50>"
            ]
          },
          "metadata": {},
          "execution_count": 44
        },
        {
          "output_type": "display_data",
          "data": {
            "image/png": "[encoded data removed]",
            "text/plain": [
              "<Figure size 432x288 with 1 Axes>"
            ]
          },
          "metadata": {
            "needs_background": "light"
          }
        }
      ]
    },
    {
      "cell_type": "code",
      "metadata": {
        "colab": {
          "base_uri": "https://localhost:8080/"
        },
        "id": "P9c9ytDrOyxg",
        "outputId": "ec2d8aed-0e52-42c2-c968-dd4eb9ec0e65"
      },
      "source": [
        "model.get_weights()\n"
      ],
      "execution_count": 45,
      "outputs": [
        {
          "output_type": "execute_result",
          "data": {
            "text/plain": [
              "[array([[1.7999496]], dtype=float32), array([32.003063], dtype=float32)]"
            ]
          },
          "metadata": {},
          "execution_count": 45
        }
      ]
    },
    {
      "cell_type": "code",
      "metadata": {
        "colab": {
          "base_uri": "https://localhost:8080/"
        },
        "id": "RcYb-MuvPQiw",
        "outputId": "3032cf96-da84-49d1-8e22-0e23720ad10d"
      },
      "source": [
        "temp_in_celsius = 0\n",
        "\n",
        "temp_in_fahrenheit = model.predict([temp_in_celsius])\n",
        "\n",
        "print(f\"Temperature in Fahrenheit: {temp_in_fahrenheit}\")"
      ],
      "execution_count": 46,
      "outputs": [
        {
          "output_type": "stream",
          "name": "stdout",
          "text": [
            "Temperature in Fahrenheit: [[32.003063]]\n"
          ]
        }
      ]
    },
    {
      "cell_type": "code",
      "metadata": {
        "colab": {
          "base_uri": "https://localhost:8080/"
        },
        "id": "PGkZIDXjPs7R",
        "outputId": "5a4e1d5e-adb8-4fea-9390-3baa0735cc8e"
      },
      "source": [
        "temp_in_fah_from_eq = 9/5 * temp_in_celsius + 32\n",
        "\n",
        "print(f\"Temperature in Fahrenheit from the equation : {temp_in_fah_from_eq}\")"
      ],
      "execution_count": 47,
      "outputs": [
        {
          "output_type": "stream",
          "name": "stdout",
          "text": [
            "Temperature in Fahrenheit from the equation : 32.0\n"
          ]
        }
      ]
    },
    {
      "cell_type": "code",
      "metadata": {
        "id": "9CyZrYZBQmCC"
      },
      "source": [
        ""
      ],
      "execution_count": null,
      "outputs": []
    }
  ]
}